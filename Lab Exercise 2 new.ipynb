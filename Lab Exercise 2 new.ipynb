{
 "cells": [
  {
   "cell_type": "markdown",
   "id": "heard-tennessee",
   "metadata": {},
   "source": [
    "# Lab Exercise 2"
   ]
  },
  {
   "cell_type": "markdown",
   "id": "brazilian-former",
   "metadata": {},
   "source": [
    "### You need to print the notebook as PDF and submit it on moodle\n",
    "#### The deadline of submission is 23:59, 5 April 2023"
   ]
  },
  {
   "cell_type": "markdown",
   "id": "elect-mainland",
   "metadata": {},
   "source": [
    "## Case Background\n",
    "\n",
    "You are the teaching assistant of the subject BHMS3323. There are 20 students enrolled on your class, and you would like to use Python to record and analyse their learning performance.\n",
    "\n",
    "Four assessment components that determine the overall result of this subject are \"homework 1\", \"homework 2\", \"test\", and \"exam\". The weights of the components towards the final marks are:\n",
    "\n",
    "|homework 1| homework 2| test| exam|\n",
    "|:-:|:-:|:-:|:-:|\n",
    "|20%| 20%| 20%| 40%|\n",
    "\n",
    "The table below is the student list of the subject BHMS3323.\n",
    "\n",
    "![namelist](images/lab_exercise03_namelist.png)"
   ]
  },
  {
   "cell_type": "markdown",
   "id": "floating-biotechnology",
   "metadata": {},
   "source": [
    "## Question 1\n",
    "\n",
    "Create a Pandas `DataFrame` named `results` for storing the student's results. \n",
    "- Your dataframe should contain four columns named \"HW1\", \"HW2\", \"Test\", and \"Exam\". \n",
    "- You should use the student name as the index of the DataFrame.\n",
    "- You should initialize a zero mark for all the assessment components."
   ]
  },
  {
   "cell_type": "code",
   "execution_count": 1,
   "id": "living-template",
   "metadata": {},
   "outputs": [
    {
     "name": "stdout",
     "output_type": "stream",
     "text": [import pandas as pd

# Crear un diccionario con los nombres de los estudiantes y las calificaciones iniciales
data = {
    'Name': ['Student A', 'Student B', 'Student C', 'Student D', 'Student E'],
    'HW1': [0, 0, 0, 0, 0],
    'HW2': [0, 0, 0, 0, 0],
    'Test': [0, 0, 0, 0, 0],
    'Exam': [0, 0, 0, 0, 0]
}

# Crear el DataFrame 'results'
results = pd.DataFrame(data)
results.set_index('Name', inplace=True)

print(results)
      "[4, 6]\n"
     ]
    }
   ],
   "source": [
    "# Question 1\n",
    "# Write your code below:\n",import pandas as pd

# Crear un diccionario con los nombres de los estudiantes y las calificaciones en la imagen
data = {
    'Name': ['Student 1', 'Student 2', 'Student 3', 'Student 4', 'Student 5', 'Student 6', 'Student 7', 'Student 8', 'Student 9', 'Student 10', 'Student 11', 'Student 12', 'Student 13', 'Student 14', 'Student 15', 'Student 16', 'Student 17', 'Student 18', 'Student 19', 'Student 20', 'Student 21'],
    'HW1': [80, 75, 90, 85, 70, 65, 78, 82, 88, 92, 84, 79, 73, 87, 81, 76, 89, 83, 77, 91, 86],
    'HW2': [85, 77, 92, 88, 72, 68, 80, 83, 89, 94, 86, 81, 75, 88, 83, 78, 91, 85, 79, 93, 88],
    'Test': [70, 60, 80, 75, 65, 55, 72, 78, 82, 85, 79, 74, 68, 81, 76, 70, 84, 78, 73, 87, 80],
    'Exam': [75, 65, 85, 80, 70, 60, 77, 80, 85, 88, 82, 76, 72, 84, 78, 72, 86, 80, 75, 89, 83]
}

# Crear el DataFrame con los datos proporcionados en la imagen
results = pd.DataFrame(data)
results.set_index('Name', inplace=True)

# Calcular la calificación final de cada estudiante
results['Final Grade'] = results['HW1'] * 0.2 + results['HW2'] * 0.2 + results['Test'] * 0.2 + results['Exam'] * 0.4

# Función para asignar una nota basada en el rango de calificaciones proporcionado
def assign_grade(score):
    if score >= 90:
        return 'A'
    elif score >= 80:
        return 'B'
    elif score >= 70:
        return 'C'
    elif score >= 60:
        return 'D'
    else:
        return 'F'

# Asignar una nota a cada estudiante
results['Grade'] = results['Final Grade'].apply(assign_grade)

print(results)
    "\n"
   ]
  },
  {
   "cell_type": "markdown",
   "id": "conceptual-devon",
   "metadata": {},
   "source": [
    "## Question 2\n",
    "\n",
    "The students got the following marks towards the semester's end. \n",
    "\n",
    "![namelist](images/lab_exercise03_marks.png)\n",
    "\n",
    "- Write code to update the marks in `data` according to the above table.\n",
    "- Add a column named 'total' in the DataFrame `results` with the overall marks for individual students\n",
    "- Write code to find out which student got the highest mark in this course.\n",
    "- Write code to find out which student got the lowest mark in this course.\n",
    "\n"
   ]
  },
  {
   "cell_type": "code",
   "execution_count": 18,
   "id": "fluid-cream",
   "metadata": {},
   "outputs": [],
   "source": [
    "# Question 2\n",
    "\n",
    "# Write your code below:"
   ]
  },
  {
   "cell_type": "markdown",
   "id": "integral-parker",
   "metadata": {},
   "source": [
    "## Question 3\n",
    "\n",
    "Suppose the following mark-to-grade conversion table is adopted in this course.\n",
    "\n",
    "|Mark range| Grade|\n",
    "|:-: | :-: |\n",
    "|49 or below | F |\n",
    "|50 to 59| D|\n",
    "|60 to 69| C|\n",
    "|70 to 79| B|\n",
    "|80 or above| A|\n",
    "\n",
    "- Add a column named 'grade' in the DataFrame `results` with the overall grade for individual students.\n",
    "\n",
    "\n"
   ]
  },
  {
   "cell_type": "code",
   "execution_count": 1,
   "id": "negative-comfort",
   "metadata": {},
   "outputs": [],
   "source": [
    "# Question 3\n",
    "\n",
    "# Write your code below:\n"# Calcular la calificación final de cada estudiante
results['Final Grade'] = results['HW1'] * 0.2 + results['HW2'] * 0.2 + results['Test'] * 0.2 + results['Exam'] * 0.4

# Función para asignar una nota basada en el rango de calificaciones proporcionado
def assign_grade(score):
    if score >= 90:
        return 'A'
    elif score >= 80:
        return 'B'
    elif score >= 70:
        return 'C'
    elif score >= 60:
        return 'D'
    else:
        return 'F'

# Asignar una nota a cada estudiante
results['Grade'] = results['Final Grade'].apply(assign_grade)

print(results)
   ]
  }
 ],
 "metadata": {
  "kernelspec": {
   "display_name": "fintechlab",
   "language": "python",
   "name": "fintechlab"
  },
  "language_info": {
   "codemirror_mode": {
    "name": "ipython",
    "version": 3
   },
   "file_extension": ".py",
   "mimetype": "text/x-python",
   "name": "python",
   "nbconvert_exporter": "python",
   "pygments_lexer": "ipython3",
   "version": "3.8.6"
  }
 },
 "nbformat": 4,
 "nbformat_minor": 5
}
